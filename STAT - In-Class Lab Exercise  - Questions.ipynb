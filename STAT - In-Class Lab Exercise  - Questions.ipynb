{
 "cells": [
  {
   "cell_type": "markdown",
   "metadata": {
    "colab_type": "text",
    "id": "0yzl3MKzf98L"
   },
   "source": [
    "<table align=\"center\" width=100%>\n",
    "    <tr>\n",
    "        <td width=\"10%\">\n",
    "            <img src=\"in_class.png\">\n",
    "        </td>\n",
    "        <td>\n",
    "            <div align=\"center\">\n",
    "                <font color=\"#21618C\" size=8px>\n",
    "                    <b> Inclass-Lab  <br>(Day 1)\n",
    "                    </b>\n",
    "                </font>\n",
    "            </div>\n",
    "        </td>\n",
    "    </tr>\n",
    "</table>"
   ]
  },
  {
   "cell_type": "markdown",
   "metadata": {},
   "source": [
    "## Table of Content\n",
    "\n",
    "1. **[Descriptive Statistics](#des)**\n",
    "2. **[Probability](#prob)**\n",
    "3. **[Probability Distributions](#dist)**\n",
    "4. **[Sampling](#sample)**"
   ]
  },
  {
   "cell_type": "markdown",
   "metadata": {},
   "source": [
    "**Import the required libraries**"
   ]
  },
  {
   "cell_type": "code",
   "execution_count": 1,
   "metadata": {},
   "outputs": [],
   "source": [
    "# type your code here\n",
    "import pandas as pd\n",
    "import numpy as np\n",
    "import matplotlib.pyplot as plt\n",
    "import seaborn as sns"
   ]
  },
  {
   "cell_type": "markdown",
   "metadata": {
    "colab_type": "text",
    "id": "psOYFu6zf98N"
   },
   "source": [
    "### Let's begin with some hands-on practice exercises"
   ]
  },
  {
   "cell_type": "markdown",
   "metadata": {
    "colab_type": "text",
    "id": "r4J-iIEhf98N"
   },
   "source": [
    "<a id = \"des\"> </a>\n",
    "## 1. Descriptive Statistics"
   ]
  },
  {
   "cell_type": "markdown",
   "metadata": {
    "colab_type": "text",
    "id": "77vuf1DVf98O"
   },
   "source": [
    "<table align=\"left\">\n",
    "    <tr>\n",
    "        <td width=\"6%\">\n",
    "            <img src=\"question_icon.png\">\n",
    "        </td>\n",
    "        <td>\n",
    "            <div align=\"left\", style=\"font-size:120%\">\n",
    "                <font color=\"#21618C\">\n",
    "                    <b>1. The rainfall (in mm) in the city is recorded for 10 days. Find the rainfall value under which 60% of the rainfall would lie.</b>\n",
    "                </font>\n",
    "            </div>\n",
    "        </td>\n",
    "    </tr>\n",
    "</table>"
   ]
  },
  {
   "cell_type": "markdown",
   "metadata": {},
   "source": [
    "Given data:\n",
    "\n",
    "        rainfall (in mm) = [86, 74, 90, 108, 65, 84, 75, 92, 102, 93]"
   ]
  },
  {
   "cell_type": "code",
   "execution_count": 3,
   "metadata": {},
   "outputs": [
    {
     "name": "stderr",
     "output_type": "stream",
     "text": [
      "C:\\Users\\HP\\anaconda3_new\\lib\\site-packages\\seaborn\\distributions.py:2551: FutureWarning: `distplot` is a deprecated function and will be removed in a future version. Please adapt your code to use either `displot` (a figure-level function with similar flexibility) or `histplot` (an axes-level function for histograms).\n",
      "  warnings.warn(msg, FutureWarning)\n"
     ]
    },
    {
     "data": {
      "text/plain": [
       "<AxesSubplot:ylabel='Density'>"
      ]
     },
     "execution_count": 3,
     "metadata": {},
     "output_type": "execute_result"
    },
    {
     "data": {
      "image/png": "[encoded data removed]",
      "text/plain": [
       "<Figure size 432x288 with 1 Axes>"
      ]
     },
     "metadata": {
      "needs_background": "light"
     },
     "output_type": "display_data"
    }
   ],
   "source": [
    "# type your code here\n",
    "rainfall=np.array([86, 74, 90, 108, 65, 84, 75, 92, 102, 93])\n",
    "mean=rainfall.mean()\n",
    "s_d=rainfall.std()\n",
    "sns.distplot(rainfall)"
   ]
  },
  {
   "cell_type": "code",
   "execution_count": 10,
   "metadata": {},
   "outputs": [],
   "source": [
    "from scipy.stats import norm"
   ]
  },
  {
   "cell_type": "code",
   "execution_count": 15,
   "metadata": {},
   "outputs": [
    {
     "data": {
      "text/plain": [
       "90.80000000000001"
      ]
     },
     "execution_count": 15,
     "metadata": {},
     "output_type": "execute_result"
    }
   ],
   "source": [
    "np.quantile(rainfall,0.6)"
   ]
  },
  {
   "cell_type": "markdown",
   "metadata": {
    "colab_type": "text",
    "id": "V7QJT8W9f98T"
   },
   "source": [
    "<table align=\"left\">\n",
    "    <tr>\n",
    "        <td width=\"6%\">\n",
    "            <img src=\"question_icon.png\">\n",
    "        </td>\n",
    "        <td>\n",
    "            <div align=\"left\", style=\"font-size:120%\">\n",
    "                <font color=\"#21618C\">\n",
    "                    <b>2. The performance of John and Jack in the monthly exams is given below. Identify the most consistent student. </b>\n",
    "                </font>\n",
    "            </div>\n",
    "        </td>\n",
    "    </tr>\n",
    "</table>"
   ]
  },
  {
   "cell_type": "markdown",
   "metadata": {},
   "source": [
    "Given data:\n",
    "\n",
    "        John = [42, 38, 47, 35, 39, 46]\n",
    "        Jack = [32, 36, 46, 49, 28, 30]"
   ]
  },
  {
   "cell_type": "code",
   "execution_count": 11,
   "metadata": {},
   "outputs": [
    {
     "data": {
      "application/javascript": [
       "\n",
       "        if (window._pyforest_update_imports_cell) { window._pyforest_update_imports_cell('import numpy as np'); }\n",
       "    "
      ],
      "text/plain": [
       "<IPython.core.display.Javascript object>"
      ]
     },
     "metadata": {},
     "output_type": "display_data"
    },
    {
     "data": {
      "application/javascript": [
       "\n",
       "        if (window._pyforest_update_imports_cell) { window._pyforest_update_imports_cell('import numpy as np'); }\n",
       "    "
      ],
      "text/plain": [
       "<IPython.core.display.Javascript object>"
      ]
     },
     "metadata": {},
     "output_type": "display_data"
    },
    {
     "data": {
      "application/javascript": [
       "\n",
       "        if (window._pyforest_update_imports_cell) { window._pyforest_update_imports_cell('import numpy as np'); }\n",
       "    "
      ],
      "text/plain": [
       "<IPython.core.display.Javascript object>"
      ]
     },
     "metadata": {},
     "output_type": "display_data"
    },
    {
     "data": {
      "application/javascript": [
       "\n",
       "        if (window._pyforest_update_imports_cell) { window._pyforest_update_imports_cell('import numpy as np'); }\n",
       "    "
      ],
      "text/plain": [
       "<IPython.core.display.Javascript object>"
      ]
     },
     "metadata": {},
     "output_type": "display_data"
    },
    {
     "name": "stdout",
     "output_type": "stream",
     "text": [
      "For john coeerelation coefficient is  0.11436799102692742\n"
     ]
    },
    {
     "data": {
      "application/javascript": [
       "\n",
       "        if (window._pyforest_update_imports_cell) { window._pyforest_update_imports_cell('import numpy as np'); }\n",
       "    "
      ],
      "text/plain": [
       "<IPython.core.display.Javascript object>"
      ]
     },
     "metadata": {},
     "output_type": "display_data"
    },
    {
     "data": {
      "application/javascript": [
       "\n",
       "        if (window._pyforest_update_imports_cell) { window._pyforest_update_imports_cell('import numpy as np'); }\n",
       "    "
      ],
      "text/plain": [
       "<IPython.core.display.Javascript object>"
      ]
     },
     "metadata": {},
     "output_type": "display_data"
    },
    {
     "name": "stdout",
     "output_type": "stream",
     "text": [
      "For Jack coeerelation coefficient is  0.2369416735128696\n"
     ]
    }
   ],
   "source": [
    "# type your code here\n",
    "John =np.array( [42, 38, 47, 35, 39, 46])\n",
    "Jack =np.array( [32, 36, 46, 49, 28, 30])\n",
    "# in order to find consistent player we need to calculate coefficient of variation\n",
    "print('For john coeerelation coefficient is ',np.std(John,ddof=1)/np.mean(John))\n",
    "print('For Jack coeerelation coefficient is ',np.std(Jack,ddof=1)/np.mean(Jack))"
   ]
  },
  {
   "cell_type": "code",
   "execution_count": 13,
   "metadata": {},
   "outputs": [
    {
     "name": "stdout",
     "output_type": "stream",
     "text": [
      "0.10440321423666096\n",
      "0.21629716566003834\n"
     ]
    }
   ],
   "source": [
    "from scipy import stats\n",
    "print(stats.variation(John))\n",
    "print(stats.variation(Jack))"
   ]
  },
  {
   "cell_type": "markdown",
   "metadata": {},
   "source": [
    "* So John is more consistent than Jack"
   ]
  },
  {
   "cell_type": "code",
   "execution_count": null,
   "metadata": {},
   "outputs": [],
   "source": []
  },
  {
   "cell_type": "markdown",
   "metadata": {
    "colab_type": "text",
    "id": "9qnEEhR4f98X"
   },
   "source": [
    "<table align=\"left\">\n",
    "    <tr>\n",
    "        <td width=\"6%\">\n",
    "            <img src=\"question_icon.png\">\n",
    "        </td>\n",
    "        <td>\n",
    "            <div align=\"left\", style=\"font-size:120%\">\n",
    "                <font color=\"#21618C\">\n",
    "                    <b>3. The amount of Calcium, Potassium and Iron in the chocolate cookies of 5 different brands is collected. Find out which mineral can be neglected while comparing the different cookie brands?</b>\n",
    "                </font>\n",
    "            </div>\n",
    "        </td>\n",
    "    </tr>\n",
    "</table>"
   ]
  },
  {
   "cell_type": "markdown",
   "metadata": {},
   "source": [
    "Given data:\n",
    "\n",
    "        Calcium (in mg) = [132, 138.56, 147.2, 145.6, 139]\n",
    "        Potassium (in mg) = [122.2, 116, 106.6, 119.52, 128]\n",
    "        Iron (in mg) = [2.96, 3.02, 3.01, 2.99, 2.93]"
   ]
  },
  {
   "cell_type": "code",
   "execution_count": 33,
   "metadata": {},
   "outputs": [],
   "source": [
    "# type your code here\n",
    "Calcium  = np.array([132, 138.56, 147.2, 145.6, 139])\n",
    "Potassium  = np.array([122.2, 116, 106.6, 119.52, 128])\n",
    "Iron  =np.array([2.96, 3.02, 3.01, 2.99, 2.93])"
   ]
  },
  {
   "cell_type": "code",
   "execution_count": 38,
   "metadata": {},
   "outputs": [
    {
     "name": "stdout",
     "output_type": "stream",
     "text": [
      "Variation of Calcium 0.04347163353526642\n",
      "Variation of Potassium 0.06711216987213856\n",
      "Variation of Iron 0.012412310880832802\n"
     ]
    }
   ],
   "source": [
    "# Here the one with least variation can be neglected because its not changing fron chocolate to chacholate ,\n",
    "# it will remain same \n",
    "\n",
    "print('Variation of Calcium',np.std(Calcium ,ddof=1)/np.mean(Calcium ))\n",
    "print('Variation of Potassium',np.std(Potassium ,ddof=1)/np.mean(Potassium ))\n",
    "print('Variation of Iron',np.std(Iron ,ddof=1)/np.mean(Iron ))\n"
   ]
  },
  {
   "cell_type": "markdown",
   "metadata": {},
   "source": [
    "* In above case Iron have least coefficient of variation which may not help in distinguishing the chacholates\n",
    "* You can use standard deviation directly in above case to compare the variation"
   ]
  },
  {
   "cell_type": "code",
   "execution_count": null,
   "metadata": {},
   "outputs": [],
   "source": []
  },
  {
   "cell_type": "markdown",
   "metadata": {
    "colab_type": "text",
    "id": "QLSslfFdf98b"
   },
   "source": [
    "<a id = \"prob\"> </a>\n",
    "## 2. Probability"
   ]
  },
  {
   "cell_type": "markdown",
   "metadata": {
    "colab_type": "text",
    "id": "6YXVLVi9f98b"
   },
   "source": [
    "<table align=\"left\">\n",
    "    <tr>\n",
    "        <td width=\"6%\">\n",
    "            <img src=\"question_icon.png\">\n",
    "        </td>\n",
    "        <td>\n",
    "            <div align=\"left\", style=\"font-size:120%\">\n",
    "                <font color=\"#21618C\">\n",
    "                    <b>4. A box contains 5 coins of Rs. 1, 3 coins of Rs. 2 and 6 coins of Rs. 5. We want to select three coins such that only the coins of an odd price are selected. Find the probability of selecting such 3 coins.</b>\n",
    "                </font>\n",
    "            </div>\n",
    "        </td>\n",
    "    </tr>\n",
    "</table>"
   ]
  },
  {
   "cell_type": "code",
   "execution_count": 42,
   "metadata": {},
   "outputs": [
    {
     "data": {
      "text/plain": [
       "<itertools.combinations at 0x288fd52db80>"
      ]
     },
     "execution_count": 42,
     "metadata": {},
     "output_type": "execute_result"
    }
   ],
   "source": [
    "# type your code here\n",
    "import itertools\n",
    "from itertools import combinations\n",
    "ones=[1,1,1,1,1]\n",
    "twos=[2,2,2]\n",
    "fives=[5,5,5,5,5,5]\n",
    "l=[1,1,1,1,1,2,2,2,5,5,5,5,5,5]\n",
    "combinations(twos,2)"
   ]
  },
  {
   "cell_type": "code",
   "execution_count": 43,
   "metadata": {},
   "outputs": [
    {
     "data": {
      "text/plain": [
       "0.4532967032967033"
      ]
     },
     "execution_count": 43,
     "metadata": {},
     "output_type": "execute_result"
    }
   ],
   "source": [
    "165/364"
   ]
  },
  {
   "cell_type": "code",
   "execution_count": 48,
   "metadata": {},
   "outputs": [],
   "source": [
    "from math import factorial\n",
    "def combination(n,r):\n",
    "    comb=factorial(n)/(factorial(r)*factorial(n-r))\n",
    "    return comb"
   ]
  },
  {
   "cell_type": "code",
   "execution_count": 49,
   "metadata": {},
   "outputs": [
    {
     "name": "stdout",
     "output_type": "stream",
     "text": [
      "364.0\n"
     ]
    }
   ],
   "source": [
    "n=14\n",
    "r=3\n",
    "print(combination(n,r))"
   ]
  },
  {
   "cell_type": "code",
   "execution_count": 53,
   "metadata": {},
   "outputs": [
    {
     "name": "stdout",
     "output_type": "stream",
     "text": [
      "0.4532967032967033\n"
     ]
    }
   ],
   "source": [
    "numerator=combination(6,3)+(combination(5,1)*combination(6,2))+(combination(5,2)*combination(6,1))+combination(5,3)\n",
    "denominator=combination(14,3)\n",
    "probability=numerator/denominator\n",
    "print(probability)"
   ]
  },
  {
   "cell_type": "code",
   "execution_count": 54,
   "metadata": {},
   "outputs": [
    {
     "data": {
      "text/plain": [
       "0.4532967032967033"
      ]
     },
     "execution_count": 54,
     "metadata": {},
     "output_type": "execute_result"
    }
   ],
   "source": [
    "combination(11,3)/combination(14,3)"
   ]
  },
  {
   "cell_type": "code",
   "execution_count": 55,
   "metadata": {},
   "outputs": [],
   "source": [
    "from itertools import combinations"
   ]
  },
  {
   "cell_type": "code",
   "execution_count": 65,
   "metadata": {},
   "outputs": [
    {
     "data": {
      "text/plain": [
       "[(1, 1, 1),\n",
       " (1, 1, 1),\n",
       " (1, 1, 1),\n",
       " (1, 1, 5),\n",
       " (1, 1, 5),\n",
       " (1, 1, 5),\n",
       " (1, 1, 5),\n",
       " (1, 1, 5),\n",
       " (1, 1, 5),\n",
       " (1, 1, 1),\n",
       " (1, 1, 1),\n",
       " (1, 1, 5),\n",
       " (1, 1, 5),\n",
       " (1, 1, 5),\n",
       " (1, 1, 5),\n",
       " (1, 1, 5),\n",
       " (1, 1, 5),\n",
       " (1, 1, 1),\n",
       " (1, 1, 5),\n",
       " (1, 1, 5),\n",
       " (1, 1, 5),\n",
       " (1, 1, 5),\n",
       " (1, 1, 5),\n",
       " (1, 1, 5),\n",
       " (1, 1, 5),\n",
       " (1, 1, 5),\n",
       " (1, 1, 5),\n",
       " (1, 1, 5),\n",
       " (1, 1, 5),\n",
       " (1, 1, 5),\n",
       " (1, 5, 5),\n",
       " (1, 5, 5),\n",
       " (1, 5, 5),\n",
       " (1, 5, 5),\n",
       " (1, 5, 5),\n",
       " (1, 5, 5),\n",
       " (1, 5, 5),\n",
       " (1, 5, 5),\n",
       " (1, 5, 5),\n",
       " (1, 5, 5),\n",
       " (1, 5, 5),\n",
       " (1, 5, 5),\n",
       " (1, 5, 5),\n",
       " (1, 5, 5),\n",
       " (1, 5, 5),\n",
       " (1, 1, 1),\n",
       " (1, 1, 1),\n",
       " (1, 1, 5),\n",
       " (1, 1, 5),\n",
       " (1, 1, 5),\n",
       " (1, 1, 5),\n",
       " (1, 1, 5),\n",
       " (1, 1, 5),\n",
       " (1, 1, 1),\n",
       " (1, 1, 5),\n",
       " (1, 1, 5),\n",
       " (1, 1, 5),\n",
       " (1, 1, 5),\n",
       " (1, 1, 5),\n",
       " (1, 1, 5),\n",
       " (1, 1, 5),\n",
       " (1, 1, 5),\n",
       " (1, 1, 5),\n",
       " (1, 1, 5),\n",
       " (1, 1, 5),\n",
       " (1, 1, 5),\n",
       " (1, 5, 5),\n",
       " (1, 5, 5),\n",
       " (1, 5, 5),\n",
       " (1, 5, 5),\n",
       " (1, 5, 5),\n",
       " (1, 5, 5),\n",
       " (1, 5, 5),\n",
       " (1, 5, 5),\n",
       " (1, 5, 5),\n",
       " (1, 5, 5),\n",
       " (1, 5, 5),\n",
       " (1, 5, 5),\n",
       " (1, 5, 5),\n",
       " (1, 5, 5),\n",
       " (1, 5, 5),\n",
       " (1, 1, 1),\n",
       " (1, 1, 5),\n",
       " (1, 1, 5),\n",
       " (1, 1, 5),\n",
       " (1, 1, 5),\n",
       " (1, 1, 5),\n",
       " (1, 1, 5),\n",
       " (1, 1, 5),\n",
       " (1, 1, 5),\n",
       " (1, 1, 5),\n",
       " (1, 1, 5),\n",
       " (1, 1, 5),\n",
       " (1, 1, 5),\n",
       " (1, 5, 5),\n",
       " (1, 5, 5),\n",
       " (1, 5, 5),\n",
       " (1, 5, 5),\n",
       " (1, 5, 5),\n",
       " (1, 5, 5),\n",
       " (1, 5, 5),\n",
       " (1, 5, 5),\n",
       " (1, 5, 5),\n",
       " (1, 5, 5),\n",
       " (1, 5, 5),\n",
       " (1, 5, 5),\n",
       " (1, 5, 5),\n",
       " (1, 5, 5),\n",
       " (1, 5, 5),\n",
       " (1, 1, 5),\n",
       " (1, 1, 5),\n",
       " (1, 1, 5),\n",
       " (1, 1, 5),\n",
       " (1, 1, 5),\n",
       " (1, 1, 5),\n",
       " (1, 5, 5),\n",
       " (1, 5, 5),\n",
       " (1, 5, 5),\n",
       " (1, 5, 5),\n",
       " (1, 5, 5),\n",
       " (1, 5, 5),\n",
       " (1, 5, 5),\n",
       " (1, 5, 5),\n",
       " (1, 5, 5),\n",
       " (1, 5, 5),\n",
       " (1, 5, 5),\n",
       " (1, 5, 5),\n",
       " (1, 5, 5),\n",
       " (1, 5, 5),\n",
       " (1, 5, 5),\n",
       " (1, 5, 5),\n",
       " (1, 5, 5),\n",
       " (1, 5, 5),\n",
       " (1, 5, 5),\n",
       " (1, 5, 5),\n",
       " (1, 5, 5),\n",
       " (1, 5, 5),\n",
       " (1, 5, 5),\n",
       " (1, 5, 5),\n",
       " (1, 5, 5),\n",
       " (1, 5, 5),\n",
       " (1, 5, 5),\n",
       " (1, 5, 5),\n",
       " (1, 5, 5),\n",
       " (1, 5, 5),\n",
       " (5, 5, 5),\n",
       " (5, 5, 5),\n",
       " (5, 5, 5),\n",
       " (5, 5, 5),\n",
       " (5, 5, 5),\n",
       " (5, 5, 5),\n",
       " (5, 5, 5),\n",
       " (5, 5, 5),\n",
       " (5, 5, 5),\n",
       " (5, 5, 5),\n",
       " (5, 5, 5),\n",
       " (5, 5, 5),\n",
       " (5, 5, 5),\n",
       " (5, 5, 5),\n",
       " (5, 5, 5),\n",
       " (5, 5, 5),\n",
       " (5, 5, 5),\n",
       " (5, 5, 5),\n",
       " (5, 5, 5),\n",
       " (5, 5, 5)]"
      ]
     },
     "execution_count": 65,
     "metadata": {},
     "output_type": "execute_result"
    }
   ],
   "source": [
    "list(combinations([1,1,1,1,1,5,5,5,5,5,5],3))"
   ]
  },
  {
   "cell_type": "code",
   "execution_count": 62,
   "metadata": {},
   "outputs": [
    {
     "data": {
      "text/plain": [
       "165"
      ]
     },
     "execution_count": 62,
     "metadata": {},
     "output_type": "execute_result"
    }
   ],
   "source": [
    "from itertools import combinations\n",
    "len(list(combinations([1,1,1,1,1,5,5,5,5,5,5],3)))\n"
   ]
  },
  {
   "cell_type": "code",
   "execution_count": 66,
   "metadata": {},
   "outputs": [
    {
     "data": {
      "text/plain": [
       "45.32967032967033"
      ]
     },
     "execution_count": 66,
     "metadata": {},
     "output_type": "execute_result"
    }
   ],
   "source": [
    "a=len(list(combinations([1,1,1,1,1,5,5,5,5,5,5],3)))\n",
    "b=len(list(combinations([1,1,1,1,1,2,2,2,5,5,5,5,5,5],3)))\n",
    "\n",
    "a/b*100\n"
   ]
  },
  {
   "cell_type": "markdown",
   "metadata": {
    "colab_type": "text",
    "id": "YIaQZc58f98p"
   },
   "source": [
    "<table align=\"left\">\n",
    "    <tr>\n",
    "        <td width=\"6%\">\n",
    "            <img src=\"question_icon.png\">\n",
    "        </td>\n",
    "        <td>\n",
    "            <div align=\"left\", style=\"font-size:120%\">\n",
    "                <font color=\"#21618C\">\n",
    "                    <b>5. A magician wants you to select three cards from a pack of 52 cards. You have to choose a card without replacement. Find the probability that one card is a queen?</b>\n",
    "                </font>\n",
    "            </div>\n",
    "        </td>\n",
    "    </tr>\n",
    "</table>"
   ]
  },
  {
   "cell_type": "code",
   "execution_count": 68,
   "metadata": {},
   "outputs": [
    {
     "name": "stdout",
     "output_type": "stream",
     "text": [
      "3.0165912518853696e-05\n"
     ]
    }
   ],
   "source": [
    "# type your code here\n",
    "num=combination(4,1)\n",
    "denom=combination(52,1)*combination(51,1)*combination(50,1)\n",
    "print(num/denom)"
   ]
  },
  {
   "cell_type": "code",
   "execution_count": 71,
   "metadata": {},
   "outputs": [
    {
     "data": {
      "text/plain": [
       "132600"
      ]
     },
     "execution_count": 71,
     "metadata": {},
     "output_type": "execute_result"
    }
   ],
   "source": [
    "52*51*50\n"
   ]
  },
  {
   "cell_type": "code",
   "execution_count": 77,
   "metadata": {},
   "outputs": [
    {
     "data": {
      "text/plain": [
       "22100"
      ]
     },
     "execution_count": 77,
     "metadata": {},
     "output_type": "execute_result"
    }
   ],
   "source": [
    "m=list(range(1,53))\n",
    "len(list(combinations(m,3)))"
   ]
  },
  {
   "cell_type": "code",
   "execution_count": 78,
   "metadata": {},
   "outputs": [
    {
     "data": {
      "text/plain": [
       "0.2041628959276018"
      ]
     },
     "execution_count": 78,
     "metadata": {},
     "output_type": "execute_result"
    }
   ],
   "source": [
    "a=np.arange(52)\n",
    "q=np.arange(4)\n",
    "nq=np.arange(48)\n",
    "com_3=len(list(combinations(a,3)))\n",
    "com_queen=len(list(combinations(q,1)))\n",
    "com_nqueen=len(list(combinations(nq,2)))\n",
    "\n",
    "com_nqueen*com_queen/com_3\n"
   ]
  },
  {
   "cell_type": "code",
   "execution_count": 79,
   "metadata": {},
   "outputs": [
    {
     "name": "stdout",
     "output_type": "stream",
     "text": [
      "Probability of selecting 3 cards with a queen:  0.2\n"
     ]
    }
   ],
   "source": [
    "prob = combination(4,1)*combination(48,2)/combination(52,3)\n",
    "print('Probability of selecting 3 cards with a queen: ', round(prob,2))\n"
   ]
  },
  {
   "cell_type": "markdown",
   "metadata": {
    "colab_type": "text",
    "id": "qI6L73Qhf98t"
   },
   "source": [
    "<table align=\"left\">\n",
    "    <tr>\n",
    "        <td width=\"6%\">\n",
    "            <img src=\"question_icon.png\">\n",
    "        </td>\n",
    "        <td>\n",
    "            <div align=\"left\", style=\"font-size:120%\">\n",
    "                <font color=\"#21618C\">\n",
    "                    <b>6. The odds that a Canadian picked at random will be left-handed are 3:14. What is the probability of selecting a left-handed person?</b>\n",
    "                </font>\n",
    "            </div>\n",
    "        </td>\n",
    "    </tr>\n",
    "</table>"
   ]
  },
  {
   "cell_type": "code",
   "execution_count": 82,
   "metadata": {},
   "outputs": [
    {
     "name": "stdout",
     "output_type": "stream",
     "text": [
      "Probability of person should be left is  0.18\n"
     ]
    }
   ],
   "source": [
    "# type your code here\n",
    "left_hand=3\n",
    "right_hand=14\n",
    "proba=3/17\n",
    "print('Probability of person should be left is ',round(proba,2))"
   ]
  },
  {
   "cell_type": "markdown",
   "metadata": {
    "colab_type": "text",
    "id": "iZkGr2rTf98y"
   },
   "source": [
    "<table align=\"left\">\n",
    "    <tr>\n",
    "        <td width=\"6%\">\n",
    "            <img src=\"question_icon.png\">\n",
    "        </td>\n",
    "        <td>\n",
    "            <div align=\"left\", style=\"font-size:120%\">\n",
    "                <font color=\"#21618C\">\n",
    "                    <b>7. Consider two dice are rolled simultaneously. Find the probability that the sum of the two numbers is at least 9.</b>\n",
    "                </font>\n",
    "            </div>\n",
    "        </td>\n",
    "    </tr>\n",
    "</table>"
   ]
  },
  {
   "cell_type": "code",
   "execution_count": 94,
   "metadata": {},
   "outputs": [
    {
     "name": "stdout",
     "output_type": "stream",
     "text": [
      "[(3, 6), (4, 5), (4, 6), (5, 4), (5, 5), (5, 6), (6, 3), (6, 4), (6, 5), (6, 6)]\n",
      "0.2777777777777778\n"
     ]
    }
   ],
   "source": [
    "# type your code here\n",
    "\n",
    "sample_space=[]\n",
    "for i in range(1,7):\n",
    "    for j in range(1,7):\n",
    "        if i+j>=9:\n",
    "            sample_space.append((i,j))\n",
    "print(sample_space)           \n",
    "print(len(sample_space)/36)"
   ]
  },
  {
   "cell_type": "code",
   "execution_count": null,
   "metadata": {},
   "outputs": [],
   "source": []
  },
  {
   "cell_type": "markdown",
   "metadata": {
    "colab_type": "text",
    "id": "iOS1kKjWf983"
   },
   "source": [
    "<table align=\"left\">\n",
    "    <tr>\n",
    "        <td width=\"6%\">\n",
    "            <img src=\"question_icon.png\">\n",
    "        </td>\n",
    "        <td>\n",
    "            <div align=\"left\", style=\"font-size:120%\">\n",
    "                <font color=\"#21618C\">\n",
    "                    <b>8. A box at courier office contains 15 couriers out of which 6 are express couriers. A delivery boy picks two couriers randomly without replacement. What is the probability that he selects both the express couriers? </b>\n",
    "                </font>\n",
    "            </div>\n",
    "        </td>\n",
    "    </tr>\n",
    "</table>"
   ]
  },
  {
   "cell_type": "code",
   "execution_count": 98,
   "metadata": {},
   "outputs": [
    {
     "name": "stdout",
     "output_type": "stream",
     "text": [
      "Probability os selecting both express courier is 0.14285714285714285\n"
     ]
    }
   ],
   "source": [
    "# type your code here\n",
    "prob=combination(6,2)/combination(15,2)\n",
    "print('Probability os selecting both express courier is',prob)"
   ]
  },
  {
   "cell_type": "code",
   "execution_count": 97,
   "metadata": {},
   "outputs": [
    {
     "data": {
      "text/plain": [
       "0.14285714285714288"
      ]
     },
     "execution_count": 97,
     "metadata": {},
     "output_type": "execute_result"
    }
   ],
   "source": [
    "(6/15)*(5/14)"
   ]
  },
  {
   "cell_type": "markdown",
   "metadata": {
    "colab_type": "text",
    "id": "m8r2VOUnf987"
   },
   "source": [
    "<table align=\"left\">\n",
    "    <tr>\n",
    "        <td width=\"6%\">\n",
    "            <img src=\"question_icon.png\">\n",
    "        </td>\n",
    "        <td>\n",
    "            <div align=\"left\", style=\"font-size:120%\">\n",
    "                <font color=\"#21618C\">\n",
    "                    <b>9. The university wants to recruit a professor with a PhD in Mathematics given that he is older than 30 years. The university has got a total of 120 applications out of which 45 applicants, are older than 30 years. Out of these 45 applicants, 27 are Masters in Mathematics and others possess PhD. What is the probability of selecting a suitable candidate? </b>\n",
    "                </font>\n",
    "            </div>\n",
    "        </td>\n",
    "    </tr>\n",
    "</table>"
   ]
  },
  {
   "cell_type": "code",
   "execution_count": 110,
   "metadata": {},
   "outputs": [
    {
     "name": "stdout",
     "output_type": "stream",
     "text": [
      "Probabibilty of selecting professor older than 30 and did phd in mathematics is 0.4\n"
     ]
    }
   ],
   "source": [
    "# type your code here\n",
    "totoal_applicant=120\n",
    "above_30=45\n",
    "phd_and_above_30=45-27\n",
    "phd=18\n",
    "# prob(x=phd/x>30age)\n",
    "prob=(phd/above_30)\n",
    "print('Probabibilty of selecting professor older than 30 and did phd in mathematics is',prob)"
   ]
  },
  {
   "cell_type": "code",
   "execution_count": 14,
   "metadata": {},
   "outputs": [
    {
     "data": {
      "text/plain": [
       "0.6"
      ]
     },
     "execution_count": 14,
     "metadata": {},
     "output_type": "execute_result"
    }
   ],
   "source": [
    "27/45"
   ]
  },
  {
   "cell_type": "code",
   "execution_count": null,
   "metadata": {},
   "outputs": [],
   "source": [
    "\n"
   ]
  },
  {
   "cell_type": "markdown",
   "metadata": {
    "colab_type": "text",
    "id": "XID79y2_f99O"
   },
   "source": [
    "<table align=\"left\">\n",
    "    <tr>\n",
    "        <td width=\"6%\">\n",
    "            <img src=\"question_icon.png\">\n",
    "        </td>\n",
    "        <td>\n",
    "            <div align=\"left\", style=\"font-size:120%\">\n",
    "                <font color=\"#21618C\">\n",
    "                    <b>10. A school is planning to send a team of 6 students for the national science quiz. After taking three quiz rounds in the school, the principal has shortlisted two teams. The first team is consists of 4 boys and 2 girls. The other team is consists of 3 boys and 3 girls. The news reporter of school selects a team at random and a girl student is selected from this team randomly for the interview. Find the probability that the first team was chosen by the news reporter.</b>\n",
    "                </font>\n",
    "            </div>\n",
    "        </td>\n",
    "    </tr>\n",
    "</table>"
   ]
  },
  {
   "cell_type": "code",
   "execution_count": 112,
   "metadata": {},
   "outputs": [
    {
     "name": "stdout",
     "output_type": "stream",
     "text": [
      "probability of selecting girl student is 0.41666666666666663\n"
     ]
    }
   ],
   "source": [
    "# type your code here\n",
    "# its total probability problem\n",
    "# probability of selecting any team randomly is 1/2\n",
    "# probability of selecting girl from first team is given that the first team is selected is 1/2 * (2/6)\n",
    "# probability of selecting girl from second team is given that the second team is selected is 1/2 * (3/6)\n",
    "# probability of selecting girl student is 1/2 *(2/6 +3/6)\n",
    "print('probability of selecting girl student is', 0.5 *((2/6) +(3/6)))"
   ]
  },
  {
   "cell_type": "markdown",
   "metadata": {
    "colab_type": "text",
    "id": "OL9cj_rRf983"
   },
   "source": [
    "<a id= \"dist\"></a>\n",
    "## 3. Probability Distributions"
   ]
  },
  {
   "cell_type": "markdown",
   "metadata": {
    "colab_type": "text",
    "id": "XID79y2_f99O"
   },
   "source": [
    "<table align=\"left\">\n",
    "    <tr>\n",
    "        <td width=\"6%\">\n",
    "            <img src=\"question_icon.png\">\n",
    "        </td>\n",
    "        <td>\n",
    "            <div align=\"left\", style=\"font-size:120%\">\n",
    "                <font color=\"#21618C\">\n",
    "                    <b>11. Five post boxes are installed at an equal distance from your house. Find the probability that you will choose the 2nd or 5th post box to drop a letter.</b>\n",
    "                </font>\n",
    "            </div>\n",
    "        </td>\n",
    "    </tr>\n",
    "</table>"
   ]
  },
  {
   "cell_type": "code",
   "execution_count": 114,
   "metadata": {},
   "outputs": [],
   "source": [
    "# type your code here\n",
    "import random\n",
    "# the selection of any box is of uniform distribution\n",
    "# p(x)=1/5\n",
    "from scipy.stats import uniform"
   ]
  },
  {
   "cell_type": "code",
   "execution_count": 1,
   "metadata": {},
   "outputs": [
    {
     "data": {
      "text/plain": [
       "0.4"
      ]
     },
     "execution_count": 1,
     "metadata": {},
     "output_type": "execute_result"
    }
   ],
   "source": [
    "# probability of choosing 2nd or 5th is \n",
    "(1/5)*2"
   ]
  },
  {
   "cell_type": "markdown",
   "metadata": {
    "colab_type": "text",
    "id": "nI9sO6ZZf99c"
   },
   "source": [
    "<table align=\"left\">\n",
    "    <tr>\n",
    "        <td width=\"6%\">\n",
    "            <img src=\"question_icon.png\">\n",
    "        </td>\n",
    "        <td>\n",
    "            <div align=\"left\", style=\"font-size:120%\">\n",
    "                <font color=\"#21618C\">\n",
    "                    <b>12. Susan has placed an order for a strawberry syrup bottle for her juice center. Her previous experience shows that the seal of 5 out of 13 bottles was broken. Find the probability that this time she will get a perfectly sealed bottle. </b>\n",
    "                </font>\n",
    "            </div>\n",
    "        </td>\n",
    "    </tr>\n",
    "</table>"
   ]
  },
  {
   "cell_type": "code",
   "execution_count": 2,
   "metadata": {},
   "outputs": [],
   "source": [
    "from scipy.stats import binom"
   ]
  },
  {
   "cell_type": "code",
   "execution_count": 13,
   "metadata": {},
   "outputs": [
    {
     "data": {
      "text/plain": [
       "4.030384466833639e-06"
      ]
     },
     "execution_count": 13,
     "metadata": {},
     "output_type": "execute_result"
    }
   ],
   "source": [
    "p=5/13  # probability of getting sealed one\n",
    "n=13    # total bottle selected\n",
    "r=13  # expecting thse many bottle will come with sealed\n",
    "binom.pmf(13,13,p)\n"
   ]
  },
  {
   "cell_type": "code",
   "execution_count": null,
   "metadata": {},
   "outputs": [],
   "source": []
  },
  {
   "cell_type": "code",
   "execution_count": 19,
   "metadata": {},
   "outputs": [
    {
     "name": "stdout",
     "output_type": "stream",
     "text": [
      "probability that the bottle will be not broken:  0.62\n"
     ]
    }
   ],
   "source": [
    "# type your code here\n",
    "from scipy.stats import bernoulli\n",
    "prob = 5/13\n",
    "# broken / not broken\n",
    "# 1/0\n",
    "\n",
    "prob = bernoulli.pmf(k= 0, p = prob)\n",
    "\n",
    "print('probability that the bottle will be not broken: ', round(prob,2))\n"
   ]
  },
  {
   "cell_type": "code",
   "execution_count": 2,
   "metadata": {},
   "outputs": [
    {
     "data": {
      "text/plain": [
       "0.625"
      ]
     },
     "execution_count": 2,
     "metadata": {},
     "output_type": "execute_result"
    }
   ],
   "source": [
    "(5/13)/(1-(5/13))"
   ]
  },
  {
   "cell_type": "markdown",
   "metadata": {
    "collapsed": true
   },
   "source": [
    "<table align=\"left\">\n",
    "    <tr>\n",
    "        <td width=\"6%\">\n",
    "            <img src=\"question_icon.png\">\n",
    "        </td>\n",
    "        <td>\n",
    "            <div align=\"left\", style=\"font-size:120%\">\n",
    "                <font color=\"#21618C\">\n",
    "                    <b>13. In a factory, the probability of producing a defective plastic box is 0.32. A sample of 50 boxes is collected. What is the probability that exactly 15 boxes are defective?\n",
    "</b>\n",
    "                </font>\n",
    "            </div>\n",
    "        </td>\n",
    "    </tr>\n",
    "</table>"
   ]
  },
  {
   "cell_type": "code",
   "execution_count": 124,
   "metadata": {},
   "outputs": [
    {
     "name": "stdout",
     "output_type": "stream",
     "text": [
      "Probability of selecting exactly 15 defective boxes is 0.11678961654306151\n"
     ]
    }
   ],
   "source": [
    "# type your code here\n",
    "from scipy.stats import binom\n",
    "defective_prob=0.32\n",
    "non_defective=1-0.32\n",
    "n=50\n",
    "r=15\n",
    "prob=binom.pmf(15,50,0.32)\n",
    "print('Probability of selecting exactly 15 defective boxes is',prob)"
   ]
  },
  {
   "cell_type": "markdown",
   "metadata": {
    "colab_type": "text",
    "id": "3us7i6Inf99f"
   },
   "source": [
    "<table align=\"left\">\n",
    "    <tr>\n",
    "        <td width=\"6%\">\n",
    "            <img src=\"question_icon.png\">\n",
    "        </td>\n",
    "        <td>\n",
    "            <div align=\"left\", style=\"font-size:120%\">\n",
    "                <font color=\"#21618C\">\n",
    "                    <b>14. On a security gate, a truck passes at a rate of 4 per hour. What is the probability that at most 10 trucks will pass in 90 minutes?</b>\n",
    "                </font>\n",
    "            </div>\n",
    "        </td>\n",
    "    </tr>\n",
    "</table>"
   ]
  },
  {
   "cell_type": "code",
   "execution_count": 127,
   "metadata": {},
   "outputs": [
    {
     "name": "stdout",
     "output_type": "stream",
     "text": [
      "0.9573790764174617\n",
      "Probability of at most 10 truck will be pass in 90 minute is  0.9573790764174617\n"
     ]
    }
   ],
   "source": [
    "# type your code here\n",
    "from scipy.stats import poisson\n",
    "mean=4*1.5  # average truck for 90 minute \n",
    "p=0\n",
    "for i in range(11):\n",
    "    p+=poisson.pmf(i,mean)\n",
    "# print(p)\n",
    "print('Probability of at most 10 truck will be pass in 90 minute is ',p)"
   ]
  },
  {
   "cell_type": "code",
   "execution_count": 128,
   "metadata": {},
   "outputs": [
    {
     "data": {
      "text/plain": [
       "0.957379076417462"
      ]
     },
     "execution_count": 128,
     "metadata": {},
     "output_type": "execute_result"
    }
   ],
   "source": [
    "# or\n",
    "poisson.cdf(10,6)"
   ]
  },
  {
   "cell_type": "markdown",
   "metadata": {
    "colab_type": "text",
    "id": "Lzs2ddCwf99m"
   },
   "source": [
    "<table align=\"left\">\n",
    "    <tr>\n",
    "        <td width=\"6%\">\n",
    "            <img src=\"question_icon.png\">\n",
    "        </td>\n",
    "        <td>\n",
    "            <div align=\"left\", style=\"font-size:120%\">\n",
    "                <font color=\"#21618C\">\n",
    "                    <b>15. A machine can produce copper wires of length between 8 cm to 10 cm. What is the probability that the machine will produce a copper wire with at most length of 9.2 cm?</b>\n",
    "                </font>\n",
    "            </div>\n",
    "        </td>\n",
    "    </tr>\n",
    "</table>"
   ]
  },
  {
   "cell_type": "code",
   "execution_count": 23,
   "metadata": {},
   "outputs": [],
   "source": [
    "# type your code here\n",
    "# its a uniform distribution lower limit=8 and upper limit=10\n",
    "from scipy.stats import uniform\n",
    "# uniform.cdf()"
   ]
  },
  {
   "cell_type": "code",
   "execution_count": 24,
   "metadata": {},
   "outputs": [
    {
     "name": "stdout",
     "output_type": "stream",
     "text": [
      "probability that the machine will produce a copper wire with at most length of 9.2 cm: 0.12\n"
     ]
    }
   ],
   "source": [
    "\n",
    "# scale is the difference between end point and start point\n",
    "# loc is the start point.\n",
    "print('probability that the machine will produce a copper wire with at most length of 9.2 cm:',\n",
    "      round(uniform.cdf(x = 9.2, loc = 8, scale = 10),2))\n",
    "\n"
   ]
  },
  {
   "cell_type": "markdown",
   "metadata": {
    "colab_type": "text",
    "id": "3uPwVwgAf99s"
   },
   "source": [
    "<table align=\"left\">\n",
    "    <tr>\n",
    "        <td width=\"6%\">\n",
    "            <img src=\"question_icon.png\">\n",
    "        </td>\n",
    "        <td>\n",
    "            <div align=\"left\", style=\"font-size:120%\">\n",
    "                <font color=\"#21618C\">\n",
    "                    <b>16. The dietitian has offered a meal plan for 30 patients. After two months of starting the diet, she has collected the data of weights for all the patients. The average weight is 80 kg with a standard deviation of 20 kg. What is the probability that the weight of a person is between 70 to 90 kg? </b>\n",
    "                </font>\n",
    "            </div>\n",
    "        </td>\n",
    "    </tr>\n",
    "</table>"
   ]
  },
  {
   "cell_type": "code",
   "execution_count": 136,
   "metadata": {},
   "outputs": [
    {
     "name": "stdout",
     "output_type": "stream",
     "text": [
      "probability that the weight of a person is between 70 to 90 kg is  0.38292492254802624\n"
     ]
    }
   ],
   "source": [
    "# type your code here\n",
    "#  Its a normal ditribution\n",
    "from scipy.stats import norm\n",
    "mean=80\n",
    "std=20\n",
    "prob=norm.cdf(90,loc=mean,scale=std)-norm.cdf(70,loc=mean,scale=std)\n",
    "print('probability that the weight of a person is between 70 to 90 kg is ',prob)"
   ]
  },
  {
   "cell_type": "markdown",
   "metadata": {
    "colab_type": "text",
    "id": "GhwNCvTmf99O"
   },
   "source": [
    "<a id=\"sample\"></a>\n",
    "## 4. Sampling"
   ]
  },
  {
   "cell_type": "markdown",
   "metadata": {
    "colab_type": "text",
    "id": "EE_L86gBf99t"
   },
   "source": [
    "<table align=\"left\">\n",
    "    <tr>\n",
    "        <td width=\"6%\">\n",
    "            <img src=\"question_icon.png\">\n",
    "        </td>\n",
    "        <td>\n",
    "            <div align=\"left\", style=\"font-size:120%\">\n",
    "                <font color=\"#21618C\">\n",
    "                    <b>17. A farmer has planted 98 tomato plants last year. He has numbered each plant with numbers 1,2,...98. Now he wants to study the growth of the plants. Help the farmer to select 12 plants randomly as a sample for the study using an appropriate sampling technique.</b>\n",
    "                </font>\n",
    "            </div>\n",
    "        </td>\n",
    "    </tr>\n",
    "</table>"
   ]
  },
  {
   "cell_type": "code",
   "execution_count": 143,
   "metadata": {},
   "outputs": [
    {
     "data": {
      "text/plain": [
       "[73, 98, 48, 63, 41, 62, 46, 58, 31, 16, 23, 67]"
      ]
     },
     "execution_count": 143,
     "metadata": {},
     "output_type": "execute_result"
    }
   ],
   "source": [
    "# type your code here\n",
    "import random\n",
    "data=np.arange(1,99)\n",
    "random.sample(list(data),12)"
   ]
  },
  {
   "cell_type": "markdown",
   "metadata": {
    "colab_type": "text",
    "id": "EFaFOXFTf99t"
   },
   "source": [
    "<table align=\"left\">\n",
    "    <tr>\n",
    "        <td width=\"6%\">\n",
    "            <img src=\"question_icon.png\">\n",
    "        </td>\n",
    "        <td>\n",
    "            <div align=\"left\", style=\"font-size:120%\">\n",
    "                <font color=\"#21618C\">\n",
    "                    <b>18. Ann has collected 20 beautiful blue marbles pebbles on her last summer vacation. Her mother gave her permission to take only 4 pebbles for her friends. Each of the marble is coded with numbers as 1,2,...20. As 2 is her favorite number, she wants to select pebbles starting from the 2nd pebble. Help Ann to systematically select the 4 marble pebbles for her friends.</b>\n",
    "                </font>\n",
    "            </div>\n",
    "        </td>\n",
    "    </tr>\n",
    "</table>"
   ]
  },
  {
   "cell_type": "code",
   "execution_count": 26,
   "metadata": {},
   "outputs": [
    {
     "data": {
      "application/javascript": [
       "\n",
       "        if (window._pyforest_update_imports_cell) { window._pyforest_update_imports_cell('import numpy as np'); }\n",
       "    "
      ],
      "text/plain": [
       "<IPython.core.display.Javascript object>"
      ]
     },
     "metadata": {},
     "output_type": "display_data"
    },
    {
     "name": "stdout",
     "output_type": "stream",
     "text": [
      "2\n",
      "7\n",
      "12\n",
      "17\n"
     ]
    }
   ],
   "source": [
    "a=np.array([i for i in range(1,21)])\n",
    "m=a.reshape(4,-1)\n",
    "for i in range(4):\n",
    "    print(m[i,1])"
   ]
  },
  {
   "cell_type": "code",
   "execution_count": 151,
   "metadata": {},
   "outputs": [
    {
     "name": "stdout",
     "output_type": "stream",
     "text": [
      "[ 2  3  4  5  6  7  8  9 10 11 12 13 14 15 16 17 18 19 20]\n"
     ]
    },
    {
     "data": {
      "text/plain": [
       "array([ 2,  6, 10, 14])"
      ]
     },
     "execution_count": 151,
     "metadata": {},
     "output_type": "execute_result"
    }
   ],
   "source": [
    "# type your code here\n",
    "data=np.arange(1,21)\n",
    "print(data[1:])\n",
    "interval=random.randint(1,5)\n",
    "data[1:][::interval][:4]"
   ]
  },
  {
   "cell_type": "markdown",
   "metadata": {
    "colab_type": "text",
    "id": "3zWA4UWQf99u"
   },
   "source": [
    "<table align=\"left\">\n",
    "    <tr>\n",
    "        <td width=\"6%\">\n",
    "            <img src=\"question_icon.png\">\n",
    "        </td>\n",
    "        <td>\n",
    "            <div align=\"left\", style=\"font-size:120%\">\n",
    "                <font color=\"#21618C\">\n",
    "                    <b>19. A rose nursery contains roses of 5 distinct colors. Select two plants of each color randomly.</b>\n",
    "                </font>\n",
    "            </div>\n",
    "        </td>\n",
    "    </tr>\n",
    "</table>"
   ]
  },
  {
   "cell_type": "markdown",
   "metadata": {},
   "source": [
    "Given data:\n",
    "\n",
    "          rose_col = ['White', 'Pink', 'White', 'Red', 'Yellow', 'Orange', 'Orange', 'Red', 'Yellow', 'White', 'Pink', \n",
    "                      'White', 'Red', 'Orange']"
   ]
  },
  {
   "cell_type": "code",
   "execution_count": 160,
   "metadata": {},
   "outputs": [
    {
     "data": {
      "text/html": [
       "<div>\n",
       "<style scoped>\n",
       "    .dataframe tbody tr th:only-of-type {\n",
       "        vertical-align: middle;\n",
       "    }\n",
       "\n",
       "    .dataframe tbody tr th {\n",
       "        vertical-align: top;\n",
       "    }\n",
       "\n",
       "    .dataframe thead th {\n",
       "        text-align: right;\n",
       "    }\n",
       "</style>\n",
       "<table border=\"1\" class=\"dataframe\">\n",
       "  <thead>\n",
       "    <tr style=\"text-align: right;\">\n",
       "      <th></th>\n",
       "      <th>colors</th>\n",
       "    </tr>\n",
       "  </thead>\n",
       "  <tbody>\n",
       "    <tr>\n",
       "      <th>6</th>\n",
       "      <td>Orange</td>\n",
       "    </tr>\n",
       "    <tr>\n",
       "      <th>13</th>\n",
       "      <td>Orange</td>\n",
       "    </tr>\n",
       "    <tr>\n",
       "      <th>10</th>\n",
       "      <td>Pink</td>\n",
       "    </tr>\n",
       "    <tr>\n",
       "      <th>1</th>\n",
       "      <td>Pink</td>\n",
       "    </tr>\n",
       "    <tr>\n",
       "      <th>12</th>\n",
       "      <td>Red</td>\n",
       "    </tr>\n",
       "    <tr>\n",
       "      <th>3</th>\n",
       "      <td>Red</td>\n",
       "    </tr>\n",
       "    <tr>\n",
       "      <th>2</th>\n",
       "      <td>White</td>\n",
       "    </tr>\n",
       "    <tr>\n",
       "      <th>0</th>\n",
       "      <td>White</td>\n",
       "    </tr>\n",
       "    <tr>\n",
       "      <th>4</th>\n",
       "      <td>Yellow</td>\n",
       "    </tr>\n",
       "    <tr>\n",
       "      <th>8</th>\n",
       "      <td>Yellow</td>\n",
       "    </tr>\n",
       "  </tbody>\n",
       "</table>\n",
       "</div>"
      ],
      "text/plain": [
       "    colors\n",
       "6   Orange\n",
       "13  Orange\n",
       "10    Pink\n",
       "1     Pink\n",
       "12     Red\n",
       "3      Red\n",
       "2    White\n",
       "0    White\n",
       "4   Yellow\n",
       "8   Yellow"
      ]
     },
     "execution_count": 160,
     "metadata": {},
     "output_type": "execute_result"
    }
   ],
   "source": [
    "df_rose = pd.DataFrame(dict(colors = ['White', 'Pink', 'White', 'Red', 'Yellow', 'Orange', 'Orange', 'Red', 'Yellow', 'White', \n",
    "                                     'Pink', 'White', 'Red', 'Orange']))\n",
    "df_rose.groupby('colors', group_keys = False).apply(lambda x: x.sample(2))\n"
   ]
  },
  {
   "cell_type": "markdown",
   "metadata": {
    "colab_type": "text",
    "id": "-qD5ZQ7Bf99v"
   },
   "source": [
    "<table align=\"left\">\n",
    "    <tr>\n",
    "        <td width=\"6%\">\n",
    "            <img src=\"question_icon.png\">\n",
    "        </td>\n",
    "        <td>\n",
    "            <div align=\"left\", style=\"font-size:120%\">\n",
    "                <font color=\"#21618C\">\n",
    "                    <b>20. Ron found gold, silver and copper coin on his way home. He asked 10 people to choose a coin randomly. He then created a list of coins chosen by each individual. Find one of the possible sample space for this experiment. </b>\n",
    "                </font>\n",
    "            </div>\n",
    "        </td>\n",
    "    </tr>\n",
    "</table>"
   ]
  },
  {
   "cell_type": "code",
   "execution_count": 161,
   "metadata": {},
   "outputs": [
    {
     "name": "stdout",
     "output_type": "stream",
     "text": [
      "possible random choices: ['copper', 'copper', 'silver', 'copper', 'copper', 'silver', 'copper', 'silver', 'silver', 'silver']\n"
     ]
    }
   ],
   "source": [
    "# type your code here\n",
    "pop = ['gold','silver','copper']\n",
    "\n",
    "print('possible random choices:',random.choices(population = pop, k=10))\n"
   ]
  },
  {
   "cell_type": "code",
   "execution_count": null,
   "metadata": {},
   "outputs": [],
   "source": []
  },
  {
   "cell_type": "code",
   "execution_count": null,
   "metadata": {},
   "outputs": [],
   "source": []
  },
  {
   "cell_type": "code",
   "execution_count": null,
   "metadata": {},
   "outputs": [],
   "source": []
  }
 ],
 "metadata": {
  "colab": {
   "name": "ITP - In-Class Lab Exercise (Day1) - Solutions [V1.0 030120].ipynb",
   "provenance": []
  },
  "kernelspec": {
   "display_name": "Python 3",
   "language": "python",
   "name": "python3"
  },
  "language_info": {
   "codemirror_mode": {
    "name": "ipython",
    "version": 3
   },
   "file_extension": ".py",
   "mimetype": "text/x-python",
   "name": "python",
   "nbconvert_exporter": "python",
   "pygments_lexer": "ipython3",
   "version": "3.8.5"
  }
 },
 "nbformat": 4,
 "nbformat_minor": 1
}
